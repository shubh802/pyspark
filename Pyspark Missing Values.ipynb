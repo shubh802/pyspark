{
 "cells": [
  {
   "cell_type": "markdown",
   "id": "c2ab3985",
   "metadata": {},
   "source": [
    "## Pyspark Handling Missing Values\n",
    " - Dropping Columns\n",
    " - Dropping Rows\n",
    " - Various Parameter in Dropping functionalities\n",
    " - Handling Missing values by Mean"
   ]
  },
  {
   "cell_type": "code",
   "execution_count": 1,
   "id": "ada98d82",
   "metadata": {},
   "outputs": [],
   "source": [
    "from pyspark.sql import SparkSession\n",
    "spark = SparkSession.builder.appName('Practise').getOrCreate()"
   ]
  },
  {
   "cell_type": "code",
   "execution_count": 2,
   "id": "f30fb321",
   "metadata": {},
   "outputs": [],
   "source": [
    "df_pyspark = spark.read.csv('Test1.csv',header=True, inferSchema=True)"
   ]
  },
  {
   "cell_type": "code",
   "execution_count": 3,
   "id": "ad4d9e0c",
   "metadata": {},
   "outputs": [
    {
     "name": "stdout",
     "output_type": "stream",
     "text": [
      "+--------+----+----------+------+\n",
      "|    Name| Age|Experience|Salary|\n",
      "+--------+----+----------+------+\n",
      "|   Krish|  31|        10| 30000|\n",
      "|Sudanshu|  30|         8| 25000|\n",
      "|   Sunny|  29|         6| 20000|\n",
      "|   Shubh|  28|         4| 15000|\n",
      "|  Harsha|  24|         1| 40000|\n",
      "|  Mahesh|  26|         3| 35000|\n",
      "|   Parul|null|      null| 38000|\n",
      "|    null|  34|        10| 33000|\n",
      "|    null|  35|      null|  null|\n",
      "+--------+----+----------+------+\n",
      "\n"
     ]
    }
   ],
   "source": [
    "df_pyspark.show()"
   ]
  },
  {
   "cell_type": "code",
   "execution_count": 4,
   "id": "f64ab55d",
   "metadata": {},
   "outputs": [
    {
     "name": "stdout",
     "output_type": "stream",
     "text": [
      "+----+----------+------+\n",
      "| Age|Experience|Salary|\n",
      "+----+----------+------+\n",
      "|  31|        10| 30000|\n",
      "|  30|         8| 25000|\n",
      "|  29|         6| 20000|\n",
      "|  28|         4| 15000|\n",
      "|  24|         1| 40000|\n",
      "|  26|         3| 35000|\n",
      "|null|      null| 38000|\n",
      "|  34|        10| 33000|\n",
      "|  35|      null|  null|\n",
      "+----+----------+------+\n",
      "\n"
     ]
    }
   ],
   "source": [
    "### Drop the Columns\n",
    "df_pyspark.drop('Name').show()"
   ]
  },
  {
   "cell_type": "code",
   "execution_count": 5,
   "id": "85b6821b",
   "metadata": {},
   "outputs": [
    {
     "name": "stdout",
     "output_type": "stream",
     "text": [
      "+--------+---+----------+------+\n",
      "|    Name|Age|Experience|Salary|\n",
      "+--------+---+----------+------+\n",
      "|   Krish| 31|        10| 30000|\n",
      "|Sudanshu| 30|         8| 25000|\n",
      "|   Sunny| 29|         6| 20000|\n",
      "|   Shubh| 28|         4| 15000|\n",
      "|  Harsha| 24|         1| 40000|\n",
      "|  Mahesh| 26|         3| 35000|\n",
      "+--------+---+----------+------+\n",
      "\n"
     ]
    }
   ],
   "source": [
    "### Dropping Nan Values all rows are dropped with NaN\n",
    "df_pyspark.na.drop().show()"
   ]
  },
  {
   "cell_type": "code",
   "execution_count": 6,
   "id": "c543a5f7",
   "metadata": {},
   "outputs": [
    {
     "name": "stdout",
     "output_type": "stream",
     "text": [
      "+--------+---+----------+------+\n",
      "|    Name|Age|Experience|Salary|\n",
      "+--------+---+----------+------+\n",
      "|   Krish| 31|        10| 30000|\n",
      "|Sudanshu| 30|         8| 25000|\n",
      "|   Sunny| 29|         6| 20000|\n",
      "|   Shubh| 28|         4| 15000|\n",
      "|  Harsha| 24|         1| 40000|\n",
      "|  Mahesh| 26|         3| 35000|\n",
      "+--------+---+----------+------+\n",
      "\n"
     ]
    }
   ],
   "source": [
    "### any==how\n",
    "df_pyspark.na.drop(how='any').show()"
   ]
  },
  {
   "cell_type": "code",
   "execution_count": 7,
   "id": "73e31cbe",
   "metadata": {},
   "outputs": [
    {
     "name": "stdout",
     "output_type": "stream",
     "text": [
      "+--------+----+----------+------+\n",
      "|    Name| Age|Experience|Salary|\n",
      "+--------+----+----------+------+\n",
      "|   Krish|  31|        10| 30000|\n",
      "|Sudanshu|  30|         8| 25000|\n",
      "|   Sunny|  29|         6| 20000|\n",
      "|   Shubh|  28|         4| 15000|\n",
      "|  Harsha|  24|         1| 40000|\n",
      "|  Mahesh|  26|         3| 35000|\n",
      "|   Parul|null|      null| 38000|\n",
      "|    null|  34|        10| 33000|\n",
      "+--------+----+----------+------+\n",
      "\n"
     ]
    }
   ],
   "source": [
    "## Threshold, checks if it has 2 null values in row then only it will delete the row\n",
    "df_pyspark.na.drop(how='any',thresh=2).show()"
   ]
  },
  {
   "cell_type": "code",
   "execution_count": 8,
   "id": "c4bda5df",
   "metadata": {},
   "outputs": [
    {
     "name": "stdout",
     "output_type": "stream",
     "text": [
      "+--------+---+----------+------+\n",
      "|    Name|Age|Experience|Salary|\n",
      "+--------+---+----------+------+\n",
      "|   Krish| 31|        10| 30000|\n",
      "|Sudanshu| 30|         8| 25000|\n",
      "|   Sunny| 29|         6| 20000|\n",
      "|   Shubh| 28|         4| 15000|\n",
      "|  Harsha| 24|         1| 40000|\n",
      "|  Mahesh| 26|         3| 35000|\n",
      "|    null| 34|        10| 33000|\n",
      "+--------+---+----------+------+\n",
      "\n"
     ]
    }
   ],
   "source": [
    "## Subset, remove rows when NaN in particular column\n",
    "df_pyspark.na.drop(how='any',subset=['Experience']).show()"
   ]
  },
  {
   "cell_type": "code",
   "execution_count": 11,
   "id": "d38f0ab8",
   "metadata": {},
   "outputs": [
    {
     "name": "stdout",
     "output_type": "stream",
     "text": [
      "+--------------+----+----------+------+\n",
      "|          Name| Age|Experience|Salary|\n",
      "+--------------+----+----------+------+\n",
      "|         Krish|  31|        10| 30000|\n",
      "|      Sudanshu|  30|         8| 25000|\n",
      "|         Sunny|  29|         6| 20000|\n",
      "|         Shubh|  28|         4| 15000|\n",
      "|        Harsha|  24|         1| 40000|\n",
      "|        Mahesh|  26|         3| 35000|\n",
      "|         Parul|null|      null| 38000|\n",
      "|Missing Values|  34|        10| 33000|\n",
      "|Missing Values|  35|      null|  null|\n",
      "+--------------+----+----------+------+\n",
      "\n"
     ]
    }
   ],
   "source": [
    "## Fill the Missing Values\n",
    "df_pyspark.na.fill('Missing Values').show()"
   ]
  },
  {
   "cell_type": "code",
   "execution_count": 13,
   "id": "507edbf6",
   "metadata": {},
   "outputs": [
    {
     "name": "stdout",
     "output_type": "stream",
     "text": [
      "+--------+----+----------+------+\n",
      "|    Name| Age|Experience|Salary|\n",
      "+--------+----+----------+------+\n",
      "|   Krish|  31|        10| 30000|\n",
      "|Sudanshu|  30|         8| 25000|\n",
      "|   Sunny|  29|         6| 20000|\n",
      "|   Shubh|  28|         4| 15000|\n",
      "|  Harsha|  24|         1| 40000|\n",
      "|  Mahesh|  26|         3| 35000|\n",
      "|   Parul|null|      null| 38000|\n",
      "|    null|  34|        10| 33000|\n",
      "|    null|  35|      null|  null|\n",
      "+--------+----+----------+------+\n",
      "\n"
     ]
    }
   ],
   "source": [
    "df_pyspark.show()"
   ]
  },
  {
   "cell_type": "code",
   "execution_count": 16,
   "id": "896b0c63",
   "metadata": {},
   "outputs": [],
   "source": [
    "from pyspark.ml.feature import Imputer\n",
    "\n",
    "imputer = Imputer(\n",
    "    inputCols=['Age', 'Experience', 'Salary'], \n",
    "    outputCols=[\"{}_imputed\".format(c) for c in ['Age', 'Experience', 'Salary']]\n",
    "    ).setStrategy(\"median\")"
   ]
  },
  {
   "cell_type": "code",
   "execution_count": 17,
   "id": "83a62e48",
   "metadata": {},
   "outputs": [
    {
     "name": "stdout",
     "output_type": "stream",
     "text": [
      "+--------+----+----------+------+-----------+------------------+--------------+\n",
      "|    Name| Age|Experience|Salary|Age_imputed|Experience_imputed|Salary_imputed|\n",
      "+--------+----+----------+------+-----------+------------------+--------------+\n",
      "|   Krish|  31|        10| 30000|         31|                10|         30000|\n",
      "|Sudanshu|  30|         8| 25000|         30|                 8|         25000|\n",
      "|   Sunny|  29|         6| 20000|         29|                 6|         20000|\n",
      "|   Shubh|  28|         4| 15000|         28|                 4|         15000|\n",
      "|  Harsha|  24|         1| 40000|         24|                 1|         40000|\n",
      "|  Mahesh|  26|         3| 35000|         26|                 3|         35000|\n",
      "|   Parul|null|      null| 38000|         29|                 6|         38000|\n",
      "|    null|  34|        10| 33000|         34|                10|         33000|\n",
      "|    null|  35|      null|  null|         35|                 6|         30000|\n",
      "+--------+----+----------+------+-----------+------------------+--------------+\n",
      "\n"
     ]
    }
   ],
   "source": [
    "# Add imputation cols to df\n",
    "imputer.fit(df_pyspark).transform(df_pyspark).show()"
   ]
  },
  {
   "cell_type": "markdown",
   "id": "cb912c95",
   "metadata": {},
   "source": [
    "## Filter Operation"
   ]
  },
  {
   "cell_type": "code",
   "execution_count": 1,
   "id": "a4c7922c",
   "metadata": {},
   "outputs": [],
   "source": [
    "from pyspark.sql import SparkSession"
   ]
  },
  {
   "cell_type": "code",
   "execution_count": 2,
   "id": "750944ec",
   "metadata": {},
   "outputs": [],
   "source": [
    "spark = SparkSession.builder.appName('dataframe').getOrCreate()"
   ]
  },
  {
   "cell_type": "code",
   "execution_count": 4,
   "id": "8083a526",
   "metadata": {},
   "outputs": [
    {
     "name": "stdout",
     "output_type": "stream",
     "text": [
      "+--------+---+----------+------+\n",
      "|    Name|Age|Experience|Salary|\n",
      "+--------+---+----------+------+\n",
      "|   Krish| 31|        10| 30000|\n",
      "|Sudanshu| 30|         8| 25000|\n",
      "|   Sunny| 29|         6| 20000|\n",
      "|   Shubh| 28|         4| 15000|\n",
      "|  Harsha| 24|         1| 40000|\n",
      "|  Mahesh| 26|         3| 35000|\n",
      "|   Parul| 27|         5| 38000|\n",
      "+--------+---+----------+------+\n",
      "\n"
     ]
    }
   ],
   "source": [
    "df_pyspark = spark.read.csv('test2.csv',header=True,inferSchema=True)\n",
    "df_pyspark.show()"
   ]
  },
  {
   "cell_type": "code",
   "execution_count": 6,
   "id": "d09e59a8",
   "metadata": {},
   "outputs": [
    {
     "name": "stdout",
     "output_type": "stream",
     "text": [
      "+-----+---+----------+------+\n",
      "| Name|Age|Experience|Salary|\n",
      "+-----+---+----------+------+\n",
      "|Sunny| 29|         6| 20000|\n",
      "|Shubh| 28|         4| 15000|\n",
      "+-----+---+----------+------+\n",
      "\n"
     ]
    }
   ],
   "source": [
    "### Salary of people with less than equal to 20000\n",
    "df_pyspark.filter('Salary<=20000').show()"
   ]
  },
  {
   "cell_type": "code",
   "execution_count": 8,
   "id": "c6845ddd",
   "metadata": {},
   "outputs": [
    {
     "name": "stdout",
     "output_type": "stream",
     "text": [
      "+-----+---+\n",
      "| Name|Age|\n",
      "+-----+---+\n",
      "|Sunny| 29|\n",
      "|Shubh| 28|\n",
      "+-----+---+\n",
      "\n"
     ]
    }
   ],
   "source": [
    "df_pyspark.filter('Salary<=20000').select(['Name','Age']).show()"
   ]
  },
  {
   "cell_type": "code",
   "execution_count": 10,
   "id": "d8f1e5ab",
   "metadata": {},
   "outputs": [
    {
     "name": "stdout",
     "output_type": "stream",
     "text": [
      "+-----+---+----------+------+\n",
      "| Name|Age|Experience|Salary|\n",
      "+-----+---+----------+------+\n",
      "|Sunny| 29|         6| 20000|\n",
      "|Shubh| 28|         4| 15000|\n",
      "+-----+---+----------+------+\n",
      "\n"
     ]
    }
   ],
   "source": [
    "df_pyspark.filter(df_pyspark['Salary']<=20000).show()"
   ]
  },
  {
   "cell_type": "code",
   "execution_count": 13,
   "id": "cd1888e8",
   "metadata": {},
   "outputs": [
    {
     "name": "stdout",
     "output_type": "stream",
     "text": [
      "+--------+---+----------+------+\n",
      "|    Name|Age|Experience|Salary|\n",
      "+--------+---+----------+------+\n",
      "|   Krish| 31|        10| 30000|\n",
      "|Sudanshu| 30|         8| 25000|\n",
      "|   Sunny| 29|         6| 20000|\n",
      "|   Shubh| 28|         4| 15000|\n",
      "+--------+---+----------+------+\n",
      "\n"
     ]
    }
   ],
   "source": [
    "# Two condition for filter\n",
    "df_pyspark.filter((df_pyspark['Salary']<=30000) & (df_pyspark['Salary']>=15000)).show()"
   ]
  },
  {
   "cell_type": "code",
   "execution_count": 14,
   "id": "bcffe839",
   "metadata": {},
   "outputs": [
    {
     "name": "stdout",
     "output_type": "stream",
     "text": [
      "+--------+---+----------+------+\n",
      "|    Name|Age|Experience|Salary|\n",
      "+--------+---+----------+------+\n",
      "|   Krish| 31|        10| 30000|\n",
      "|Sudanshu| 30|         8| 25000|\n",
      "|  Harsha| 24|         1| 40000|\n",
      "|  Mahesh| 26|         3| 35000|\n",
      "|   Parul| 27|         5| 38000|\n",
      "+--------+---+----------+------+\n",
      "\n"
     ]
    }
   ],
   "source": [
    "#Inverse filter operation\n",
    "df_pyspark.filter(~(df_pyspark['Salary']<=20000)).show()"
   ]
  },
  {
   "cell_type": "markdown",
   "id": "17b88241",
   "metadata": {},
   "source": [
    "## Pyspark GroupBy and Agrregate Functions "
   ]
  },
  {
   "cell_type": "code",
   "execution_count": 1,
   "id": "250340d7",
   "metadata": {},
   "outputs": [],
   "source": [
    "from pyspark.sql import SparkSession"
   ]
  },
  {
   "cell_type": "code",
   "execution_count": 3,
   "id": "5501f3c3",
   "metadata": {},
   "outputs": [],
   "source": [
    "spark = SparkSession.builder.appName('Agg').getOrCreate()"
   ]
  },
  {
   "cell_type": "code",
   "execution_count": 4,
   "id": "dd532df3",
   "metadata": {},
   "outputs": [
    {
     "data": {
      "text/html": [
       "\n",
       "            <div>\n",
       "                <p><b>SparkSession - in-memory</b></p>\n",
       "                \n",
       "        <div>\n",
       "            <p><b>SparkContext</b></p>\n",
       "\n",
       "            <p><a href=\"http://L110R8S2.us.ad.wellpoint.com:4040\">Spark UI</a></p>\n",
       "\n",
       "            <dl>\n",
       "              <dt>Version</dt>\n",
       "                <dd><code>v3.1.1</code></dd>\n",
       "              <dt>Master</dt>\n",
       "                <dd><code>local[*]</code></dd>\n",
       "              <dt>AppName</dt>\n",
       "                <dd><code>Agg</code></dd>\n",
       "            </dl>\n",
       "        </div>\n",
       "        \n",
       "            </div>\n",
       "        "
      ],
      "text/plain": [
       "<pyspark.sql.session.SparkSession at 0x20b7e145198>"
      ]
     },
     "execution_count": 4,
     "metadata": {},
     "output_type": "execute_result"
    }
   ],
   "source": [
    "spark"
   ]
  },
  {
   "cell_type": "code",
   "execution_count": 5,
   "id": "9675285e",
   "metadata": {},
   "outputs": [],
   "source": [
    "df_pyspark = spark.read.csv('test3.csv',header=True, inferSchema=True);"
   ]
  },
  {
   "cell_type": "code",
   "execution_count": 6,
   "id": "05e2ddf5",
   "metadata": {},
   "outputs": [
    {
     "name": "stdout",
     "output_type": "stream",
     "text": [
      "+--------+------------+------+\n",
      "|    Name|  Department|Salary|\n",
      "+--------+------------+------+\n",
      "|   Krish|Data Science| 30000|\n",
      "|Sudanshu|         IOT| 25000|\n",
      "|   Sunny|    Big Data| 20000|\n",
      "|   Shubh|    Big Data| 15000|\n",
      "|  Harsha|Data Science| 40000|\n",
      "|  Mahesh|         IOT| 35000|\n",
      "|   Parul|    Big Data| 38000|\n",
      "|   Krish|         IOT| 45000|\n",
      "+--------+------------+------+\n",
      "\n"
     ]
    }
   ],
   "source": [
    "df_pyspark.show()"
   ]
  },
  {
   "cell_type": "code",
   "execution_count": 7,
   "id": "dd08519c",
   "metadata": {},
   "outputs": [
    {
     "name": "stdout",
     "output_type": "stream",
     "text": [
      "root\n",
      " |-- Name: string (nullable = true)\n",
      " |-- Department: string (nullable = true)\n",
      " |-- Salary: integer (nullable = true)\n",
      "\n"
     ]
    }
   ],
   "source": [
    "df_pyspark.printSchema()"
   ]
  },
  {
   "cell_type": "code",
   "execution_count": 9,
   "id": "8dd70e8c",
   "metadata": {},
   "outputs": [
    {
     "name": "stdout",
     "output_type": "stream",
     "text": [
      "+--------+-----------+\n",
      "|    Name|sum(Salary)|\n",
      "+--------+-----------+\n",
      "|   Sunny|      20000|\n",
      "|   Krish|      75000|\n",
      "|Sudanshu|      25000|\n",
      "|   Shubh|      15000|\n",
      "|  Harsha|      40000|\n",
      "|  Mahesh|      35000|\n",
      "|   Parul|      38000|\n",
      "+--------+-----------+\n",
      "\n"
     ]
    }
   ],
   "source": [
    "## Group By\n",
    "df_pyspark.groupBy('Name').sum().show()"
   ]
  },
  {
   "cell_type": "code",
   "execution_count": 10,
   "id": "fbd795eb",
   "metadata": {},
   "outputs": [
    {
     "name": "stdout",
     "output_type": "stream",
     "text": [
      "+------------+-----------+\n",
      "|  Department|sum(Salary)|\n",
      "+------------+-----------+\n",
      "|         IOT|     105000|\n",
      "|    Big Data|      73000|\n",
      "|Data Science|      70000|\n",
      "+------------+-----------+\n",
      "\n"
     ]
    }
   ],
   "source": [
    "## Group by Department which gives max salary\n",
    "\n",
    "df_pyspark.groupBy('Department').sum().show()"
   ]
  },
  {
   "cell_type": "code",
   "execution_count": 11,
   "id": "8acfaed0",
   "metadata": {},
   "outputs": [
    {
     "name": "stdout",
     "output_type": "stream",
     "text": [
      "+------------+------------------+\n",
      "|  Department|       avg(Salary)|\n",
      "+------------+------------------+\n",
      "|         IOT|           35000.0|\n",
      "|    Big Data|24333.333333333332|\n",
      "|Data Science|           35000.0|\n",
      "+------------+------------------+\n",
      "\n"
     ]
    }
   ],
   "source": [
    "df_pyspark.groupBy('Department').mean().show()"
   ]
  },
  {
   "cell_type": "code",
   "execution_count": 13,
   "id": "f1fc43a3",
   "metadata": {},
   "outputs": [
    {
     "name": "stdout",
     "output_type": "stream",
     "text": [
      "+------------+-----+\n",
      "|  Department|count|\n",
      "+------------+-----+\n",
      "|         IOT|    3|\n",
      "|    Big Data|    3|\n",
      "|Data Science|    2|\n",
      "+------------+-----+\n",
      "\n"
     ]
    }
   ],
   "source": [
    "df_pyspark.groupBy('Department').count().show()"
   ]
  },
  {
   "cell_type": "code",
   "execution_count": 14,
   "id": "cc15fcef",
   "metadata": {},
   "outputs": [
    {
     "name": "stdout",
     "output_type": "stream",
     "text": [
      "+-----------+\n",
      "|sum(Salary)|\n",
      "+-----------+\n",
      "|     248000|\n",
      "+-----------+\n",
      "\n"
     ]
    }
   ],
   "source": [
    "df_pyspark.agg({'Salary':'sum'}).show()"
   ]
  },
  {
   "cell_type": "code",
   "execution_count": null,
   "id": "d4142d76",
   "metadata": {},
   "outputs": [],
   "source": []
  }
 ],
 "metadata": {
  "kernelspec": {
   "display_name": "Python 3",
   "language": "python",
   "name": "python3"
  },
  "language_info": {
   "codemirror_mode": {
    "name": "ipython",
    "version": 3
   },
   "file_extension": ".py",
   "mimetype": "text/x-python",
   "name": "python",
   "nbconvert_exporter": "python",
   "pygments_lexer": "ipython3",
   "version": "3.6.9"
  }
 },
 "nbformat": 4,
 "nbformat_minor": 5
}
